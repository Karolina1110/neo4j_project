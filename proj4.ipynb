{
 "cells": [
  {
   "cell_type": "code",
   "execution_count": 26,
   "id": "612a6ba4",
   "metadata": {},
   "outputs": [],
   "source": [
    "import pandas as pd\n",
    "import math as m\n",
    "import pprint\n",
    "from neo4j import GraphDatabase\n",
    "import numpy as np"
   ]
  },
  {
   "cell_type": "markdown",
   "id": "e6ee0f95",
   "metadata": {},
   "source": [
    "# Umieść pliki csv w folderze \"games\" lub zmień ścieżki do plików"
   ]
  },
  {
   "cell_type": "code",
   "execution_count": 28,
   "id": "ae22f31b",
   "metadata": {
    "scrolled": true
   },
   "outputs": [
    {
     "data": {
      "text/html": [
       "<div>\n",
       "<style scoped>\n",
       "    .dataframe tbody tr th:only-of-type {\n",
       "        vertical-align: middle;\n",
       "    }\n",
       "\n",
       "    .dataframe tbody tr th {\n",
       "        vertical-align: top;\n",
       "    }\n",
       "\n",
       "    .dataframe thead th {\n",
       "        text-align: right;\n",
       "    }\n",
       "</style>\n",
       "<table border=\"1\" class=\"dataframe\">\n",
       "  <thead>\n",
       "    <tr style=\"text-align: right;\">\n",
       "      <th></th>\n",
       "      <th>gameID</th>\n",
       "      <th>leagueID</th>\n",
       "      <th>season</th>\n",
       "      <th>date</th>\n",
       "      <th>homeTeamID</th>\n",
       "      <th>awayTeamID</th>\n",
       "      <th>homeGoals</th>\n",
       "      <th>awayGoals</th>\n",
       "    </tr>\n",
       "  </thead>\n",
       "  <tbody>\n",
       "    <tr>\n",
       "      <th>0</th>\n",
       "      <td>81</td>\n",
       "      <td>1</td>\n",
       "      <td>2015</td>\n",
       "      <td>2015-08-08 15:45:00</td>\n",
       "      <td>89</td>\n",
       "      <td>82</td>\n",
       "      <td>1</td>\n",
       "      <td>0</td>\n",
       "    </tr>\n",
       "    <tr>\n",
       "      <th>1</th>\n",
       "      <td>82</td>\n",
       "      <td>1</td>\n",
       "      <td>2015</td>\n",
       "      <td>2015-08-08 18:00:00</td>\n",
       "      <td>73</td>\n",
       "      <td>71</td>\n",
       "      <td>0</td>\n",
       "      <td>1</td>\n",
       "    </tr>\n",
       "    <tr>\n",
       "      <th>2</th>\n",
       "      <td>83</td>\n",
       "      <td>1</td>\n",
       "      <td>2015</td>\n",
       "      <td>2015-08-08 18:00:00</td>\n",
       "      <td>72</td>\n",
       "      <td>90</td>\n",
       "      <td>2</td>\n",
       "      <td>2</td>\n",
       "    </tr>\n",
       "    <tr>\n",
       "      <th>3</th>\n",
       "      <td>84</td>\n",
       "      <td>1</td>\n",
       "      <td>2015</td>\n",
       "      <td>2015-08-08 18:00:00</td>\n",
       "      <td>75</td>\n",
       "      <td>77</td>\n",
       "      <td>4</td>\n",
       "      <td>2</td>\n",
       "    </tr>\n",
       "    <tr>\n",
       "      <th>4</th>\n",
       "      <td>85</td>\n",
       "      <td>1</td>\n",
       "      <td>2015</td>\n",
       "      <td>2015-08-08 18:00:00</td>\n",
       "      <td>79</td>\n",
       "      <td>78</td>\n",
       "      <td>1</td>\n",
       "      <td>3</td>\n",
       "    </tr>\n",
       "  </tbody>\n",
       "</table>\n",
       "</div>"
      ],
      "text/plain": [
       "   gameID  leagueID  season                 date  homeTeamID  awayTeamID  \\\n",
       "0      81         1    2015  2015-08-08 15:45:00          89          82   \n",
       "1      82         1    2015  2015-08-08 18:00:00          73          71   \n",
       "2      83         1    2015  2015-08-08 18:00:00          72          90   \n",
       "3      84         1    2015  2015-08-08 18:00:00          75          77   \n",
       "4      85         1    2015  2015-08-08 18:00:00          79          78   \n",
       "\n",
       "   homeGoals  awayGoals  \n",
       "0          1          0  \n",
       "1          0          1  \n",
       "2          2          2  \n",
       "3          4          2  \n",
       "4          1          3  "
      ]
     },
     "execution_count": 28,
     "metadata": {},
     "output_type": "execute_result"
    }
   ],
   "source": [
    "games = pd.read_csv('mecze/games.csv', encoding = \"ISO-8859-1\")[['gameID', 'leagueID', 'season', 'date', 'homeTeamID', 'awayTeamID', 'homeGoals', 'awayGoals']]\n",
    "games.head()"
   ]
  },
  {
   "cell_type": "code",
   "execution_count": 29,
   "id": "bf747ad4",
   "metadata": {},
   "outputs": [
    {
     "data": {
      "text/html": [
       "<div>\n",
       "<style scoped>\n",
       "    .dataframe tbody tr th:only-of-type {\n",
       "        vertical-align: middle;\n",
       "    }\n",
       "\n",
       "    .dataframe tbody tr th {\n",
       "        vertical-align: top;\n",
       "    }\n",
       "\n",
       "    .dataframe thead th {\n",
       "        text-align: right;\n",
       "    }\n",
       "</style>\n",
       "<table border=\"1\" class=\"dataframe\">\n",
       "  <thead>\n",
       "    <tr style=\"text-align: right;\">\n",
       "      <th></th>\n",
       "      <th>teamID</th>\n",
       "      <th>name</th>\n",
       "    </tr>\n",
       "  </thead>\n",
       "  <tbody>\n",
       "    <tr>\n",
       "      <th>0</th>\n",
       "      <td>71</td>\n",
       "      <td>Aston Villa</td>\n",
       "    </tr>\n",
       "    <tr>\n",
       "      <th>1</th>\n",
       "      <td>72</td>\n",
       "      <td>Everton</td>\n",
       "    </tr>\n",
       "    <tr>\n",
       "      <th>2</th>\n",
       "      <td>74</td>\n",
       "      <td>Southampton</td>\n",
       "    </tr>\n",
       "    <tr>\n",
       "      <th>3</th>\n",
       "      <td>75</td>\n",
       "      <td>Leicester</td>\n",
       "    </tr>\n",
       "    <tr>\n",
       "      <th>4</th>\n",
       "      <td>76</td>\n",
       "      <td>West Bromwich Albion</td>\n",
       "    </tr>\n",
       "  </tbody>\n",
       "</table>\n",
       "</div>"
      ],
      "text/plain": [
       "   teamID                  name\n",
       "0      71           Aston Villa\n",
       "1      72               Everton\n",
       "2      74           Southampton\n",
       "3      75             Leicester\n",
       "4      76  West Bromwich Albion"
      ]
     },
     "execution_count": 29,
     "metadata": {},
     "output_type": "execute_result"
    }
   ],
   "source": [
    "teams = pd.read_csv('mecze/teams.csv', encoding = \"ISO-8859-1\")\n",
    "teams.head()"
   ]
  },
  {
   "cell_type": "code",
   "execution_count": 30,
   "id": "c97228cb",
   "metadata": {},
   "outputs": [
    {
     "data": {
      "text/html": [
       "<div>\n",
       "<style scoped>\n",
       "    .dataframe tbody tr th:only-of-type {\n",
       "        vertical-align: middle;\n",
       "    }\n",
       "\n",
       "    .dataframe tbody tr th {\n",
       "        vertical-align: top;\n",
       "    }\n",
       "\n",
       "    .dataframe thead th {\n",
       "        text-align: right;\n",
       "    }\n",
       "</style>\n",
       "<table border=\"1\" class=\"dataframe\">\n",
       "  <thead>\n",
       "    <tr style=\"text-align: right;\">\n",
       "      <th></th>\n",
       "      <th>playerID</th>\n",
       "      <th>name</th>\n",
       "    </tr>\n",
       "  </thead>\n",
       "  <tbody>\n",
       "    <tr>\n",
       "      <th>0</th>\n",
       "      <td>560</td>\n",
       "      <td>Sergio Romero</td>\n",
       "    </tr>\n",
       "    <tr>\n",
       "      <th>1</th>\n",
       "      <td>557</td>\n",
       "      <td>Matteo Darmian</td>\n",
       "    </tr>\n",
       "    <tr>\n",
       "      <th>2</th>\n",
       "      <td>548</td>\n",
       "      <td>Daley Blind</td>\n",
       "    </tr>\n",
       "    <tr>\n",
       "      <th>3</th>\n",
       "      <td>628</td>\n",
       "      <td>Chris Smalling</td>\n",
       "    </tr>\n",
       "    <tr>\n",
       "      <th>4</th>\n",
       "      <td>1006</td>\n",
       "      <td>Luke Shaw</td>\n",
       "    </tr>\n",
       "  </tbody>\n",
       "</table>\n",
       "</div>"
      ],
      "text/plain": [
       "   playerID            name\n",
       "0       560   Sergio Romero\n",
       "1       557  Matteo Darmian\n",
       "2       548     Daley Blind\n",
       "3       628  Chris Smalling\n",
       "4      1006       Luke Shaw"
      ]
     },
     "execution_count": 30,
     "metadata": {},
     "output_type": "execute_result"
    }
   ],
   "source": [
    "players = pd.read_csv('mecze/players.csv', encoding = \"ISO-8859-1\")\n",
    "players.head()"
   ]
  },
  {
   "cell_type": "code",
   "execution_count": 31,
   "id": "cedaf901",
   "metadata": {},
   "outputs": [],
   "source": [
    "players['lastName']=players['name']"
   ]
  },
  {
   "cell_type": "code",
   "execution_count": 32,
   "id": "26867f14",
   "metadata": {},
   "outputs": [
    {
     "name": "stderr",
     "output_type": "stream",
     "text": [
      "C:\\Users\\Karolina\\AppData\\Local\\Temp\\ipykernel_32156\\2575302664.py:7: SettingWithCopyWarning: \n",
      "A value is trying to be set on a copy of a slice from a DataFrame\n",
      "\n",
      "See the caveats in the documentation: https://pandas.pydata.org/pandas-docs/stable/user_guide/indexing.html#returning-a-view-versus-a-copy\n",
      "  players['name'][i]=name\n",
      "C:\\Users\\Karolina\\AppData\\Local\\Temp\\ipykernel_32156\\2575302664.py:8: SettingWithCopyWarning: \n",
      "A value is trying to be set on a copy of a slice from a DataFrame\n",
      "\n",
      "See the caveats in the documentation: https://pandas.pydata.org/pandas-docs/stable/user_guide/indexing.html#returning-a-view-versus-a-copy\n",
      "  players['lastName'][i]=lastName\n"
     ]
    }
   ],
   "source": [
    "for i in range(len(players['playerID'])):\n",
    "    name = players['name'][i].split()[0]\n",
    "    try:\n",
    "        lastName = players['name'][i].split()[1]\n",
    "    except:\n",
    "        lastName = ''\n",
    "    players['name'][i]=name\n",
    "    players['lastName'][i]=lastName"
   ]
  },
  {
   "cell_type": "code",
   "execution_count": 33,
   "id": "a7b58b7a",
   "metadata": {},
   "outputs": [
    {
     "data": {
      "text/html": [
       "<div>\n",
       "<style scoped>\n",
       "    .dataframe tbody tr th:only-of-type {\n",
       "        vertical-align: middle;\n",
       "    }\n",
       "\n",
       "    .dataframe tbody tr th {\n",
       "        vertical-align: top;\n",
       "    }\n",
       "\n",
       "    .dataframe thead th {\n",
       "        text-align: right;\n",
       "    }\n",
       "</style>\n",
       "<table border=\"1\" class=\"dataframe\">\n",
       "  <thead>\n",
       "    <tr style=\"text-align: right;\">\n",
       "      <th></th>\n",
       "      <th>playerID</th>\n",
       "      <th>name</th>\n",
       "      <th>lastName</th>\n",
       "    </tr>\n",
       "  </thead>\n",
       "  <tbody>\n",
       "    <tr>\n",
       "      <th>0</th>\n",
       "      <td>560</td>\n",
       "      <td>Sergio</td>\n",
       "      <td>Romero</td>\n",
       "    </tr>\n",
       "    <tr>\n",
       "      <th>1</th>\n",
       "      <td>557</td>\n",
       "      <td>Matteo</td>\n",
       "      <td>Darmian</td>\n",
       "    </tr>\n",
       "    <tr>\n",
       "      <th>2</th>\n",
       "      <td>548</td>\n",
       "      <td>Daley</td>\n",
       "      <td>Blind</td>\n",
       "    </tr>\n",
       "    <tr>\n",
       "      <th>3</th>\n",
       "      <td>628</td>\n",
       "      <td>Chris</td>\n",
       "      <td>Smalling</td>\n",
       "    </tr>\n",
       "    <tr>\n",
       "      <th>4</th>\n",
       "      <td>1006</td>\n",
       "      <td>Luke</td>\n",
       "      <td>Shaw</td>\n",
       "    </tr>\n",
       "  </tbody>\n",
       "</table>\n",
       "</div>"
      ],
      "text/plain": [
       "   playerID    name  lastName\n",
       "0       560  Sergio    Romero\n",
       "1       557  Matteo   Darmian\n",
       "2       548   Daley     Blind\n",
       "3       628   Chris  Smalling\n",
       "4      1006    Luke      Shaw"
      ]
     },
     "execution_count": 33,
     "metadata": {},
     "output_type": "execute_result"
    }
   ],
   "source": [
    "players.head()"
   ]
  },
  {
   "cell_type": "code",
   "execution_count": 34,
   "id": "0ba75bbd",
   "metadata": {},
   "outputs": [
    {
     "data": {
      "text/html": [
       "<div>\n",
       "<style scoped>\n",
       "    .dataframe tbody tr th:only-of-type {\n",
       "        vertical-align: middle;\n",
       "    }\n",
       "\n",
       "    .dataframe tbody tr th {\n",
       "        vertical-align: top;\n",
       "    }\n",
       "\n",
       "    .dataframe thead th {\n",
       "        text-align: right;\n",
       "    }\n",
       "</style>\n",
       "<table border=\"1\" class=\"dataframe\">\n",
       "  <thead>\n",
       "    <tr style=\"text-align: right;\">\n",
       "      <th></th>\n",
       "      <th>leagueID</th>\n",
       "      <th>name</th>\n",
       "      <th>understatNotation</th>\n",
       "    </tr>\n",
       "  </thead>\n",
       "  <tbody>\n",
       "    <tr>\n",
       "      <th>0</th>\n",
       "      <td>1</td>\n",
       "      <td>Premier League</td>\n",
       "      <td>EPL</td>\n",
       "    </tr>\n",
       "    <tr>\n",
       "      <th>1</th>\n",
       "      <td>2</td>\n",
       "      <td>Serie A</td>\n",
       "      <td>Serie_A</td>\n",
       "    </tr>\n",
       "    <tr>\n",
       "      <th>2</th>\n",
       "      <td>3</td>\n",
       "      <td>Bundesliga</td>\n",
       "      <td>Bundesliga</td>\n",
       "    </tr>\n",
       "    <tr>\n",
       "      <th>3</th>\n",
       "      <td>4</td>\n",
       "      <td>La Liga</td>\n",
       "      <td>La_liga</td>\n",
       "    </tr>\n",
       "    <tr>\n",
       "      <th>4</th>\n",
       "      <td>5</td>\n",
       "      <td>Ligue 1</td>\n",
       "      <td>Ligue_1</td>\n",
       "    </tr>\n",
       "  </tbody>\n",
       "</table>\n",
       "</div>"
      ],
      "text/plain": [
       "   leagueID            name understatNotation\n",
       "0         1  Premier League               EPL\n",
       "1         2         Serie A           Serie_A\n",
       "2         3      Bundesliga        Bundesliga\n",
       "3         4         La Liga           La_liga\n",
       "4         5         Ligue 1           Ligue_1"
      ]
     },
     "execution_count": 34,
     "metadata": {},
     "output_type": "execute_result"
    }
   ],
   "source": [
    "leagues = pd.read_csv('mecze/leagues.csv', encoding = \"ISO-8859-1\")\n",
    "leagues.head()"
   ]
  },
  {
   "cell_type": "code",
   "execution_count": 35,
   "id": "9be39056",
   "metadata": {},
   "outputs": [
    {
     "data": {
      "text/html": [
       "<div>\n",
       "<style scoped>\n",
       "    .dataframe tbody tr th:only-of-type {\n",
       "        vertical-align: middle;\n",
       "    }\n",
       "\n",
       "    .dataframe tbody tr th {\n",
       "        vertical-align: top;\n",
       "    }\n",
       "\n",
       "    .dataframe thead th {\n",
       "        text-align: right;\n",
       "    }\n",
       "</style>\n",
       "<table border=\"1\" class=\"dataframe\">\n",
       "  <thead>\n",
       "    <tr style=\"text-align: right;\">\n",
       "      <th></th>\n",
       "      <th>gameID</th>\n",
       "      <th>shooterID</th>\n",
       "      <th>minute</th>\n",
       "      <th>shotType</th>\n",
       "      <th>shotResult</th>\n",
       "    </tr>\n",
       "  </thead>\n",
       "  <tbody>\n",
       "    <tr>\n",
       "      <th>0</th>\n",
       "      <td>81</td>\n",
       "      <td>554</td>\n",
       "      <td>27</td>\n",
       "      <td>LeftFoot</td>\n",
       "      <td>BlockedShot</td>\n",
       "    </tr>\n",
       "    <tr>\n",
       "      <th>1</th>\n",
       "      <td>81</td>\n",
       "      <td>555</td>\n",
       "      <td>27</td>\n",
       "      <td>RightFoot</td>\n",
       "      <td>BlockedShot</td>\n",
       "    </tr>\n",
       "    <tr>\n",
       "      <th>2</th>\n",
       "      <td>81</td>\n",
       "      <td>554</td>\n",
       "      <td>35</td>\n",
       "      <td>LeftFoot</td>\n",
       "      <td>BlockedShot</td>\n",
       "    </tr>\n",
       "    <tr>\n",
       "      <th>3</th>\n",
       "      <td>81</td>\n",
       "      <td>554</td>\n",
       "      <td>35</td>\n",
       "      <td>LeftFoot</td>\n",
       "      <td>MissedShots</td>\n",
       "    </tr>\n",
       "    <tr>\n",
       "      <th>4</th>\n",
       "      <td>81</td>\n",
       "      <td>555</td>\n",
       "      <td>40</td>\n",
       "      <td>RightFoot</td>\n",
       "      <td>BlockedShot</td>\n",
       "    </tr>\n",
       "  </tbody>\n",
       "</table>\n",
       "</div>"
      ],
      "text/plain": [
       "   gameID  shooterID  minute   shotType   shotResult\n",
       "0      81        554      27   LeftFoot  BlockedShot\n",
       "1      81        555      27  RightFoot  BlockedShot\n",
       "2      81        554      35   LeftFoot  BlockedShot\n",
       "3      81        554      35   LeftFoot  MissedShots\n",
       "4      81        555      40  RightFoot  BlockedShot"
      ]
     },
     "execution_count": 35,
     "metadata": {},
     "output_type": "execute_result"
    }
   ],
   "source": [
    "shots = pd.read_csv('mecze/shots.csv', encoding = \"ISO-8859-1\")[['gameID','shooterID','minute','shotType','shotResult']]\n",
    "shots.head()"
   ]
  },
  {
   "cell_type": "markdown",
   "id": "2d2f3082",
   "metadata": {},
   "source": [
    "# Tu należy zmienić hasło do bazy"
   ]
  },
  {
   "cell_type": "code",
   "execution_count": 36,
   "id": "425f315d",
   "metadata": {},
   "outputs": [
    {
     "data": {
      "text/plain": [
       "<neo4j._sync.driver.BoltDriver at 0x26f2c3eefd0>"
      ]
     },
     "execution_count": 36,
     "metadata": {},
     "output_type": "execute_result"
    }
   ],
   "source": [
    "neo = GraphDatabase.driver(uri = 'bolt://localhost:7687', auth=('neo4j', 'games'))\n",
    "neo"
   ]
  },
  {
   "cell_type": "code",
   "execution_count": 37,
   "id": "058fba79",
   "metadata": {},
   "outputs": [
    {
     "data": {
      "text/plain": [
       "<neo4j._sync.work.session.Session at 0x26f2c3ee520>"
      ]
     },
     "execution_count": 37,
     "metadata": {},
     "output_type": "execute_result"
    }
   ],
   "source": [
    "session=neo.session()\n",
    "session"
   ]
  },
  {
   "cell_type": "code",
   "execution_count": 38,
   "id": "ac1f8349",
   "metadata": {},
   "outputs": [],
   "source": [
    "query='MATCH (x) RETURN x'"
   ]
  },
  {
   "cell_type": "code",
   "execution_count": 39,
   "id": "2c5cc61c",
   "metadata": {},
   "outputs": [
    {
     "data": {
      "text/plain": [
       "<neo4j._sync.work.result.Result at 0x26f2c3eb550>"
      ]
     },
     "execution_count": 39,
     "metadata": {},
     "output_type": "execute_result"
    }
   ],
   "source": [
    "nodes = session.run(query)\n",
    "nodes"
   ]
  },
  {
   "cell_type": "code",
   "execution_count": 40,
   "id": "7c36f3ac",
   "metadata": {},
   "outputs": [],
   "source": [
    "for i in range(len(games['gameID'])):\n",
    "    create = 'create (g:game{gameID:\"' +str(games['gameID'][i]) + '\", leagueID:\"' +str(games['leagueID'][i]) + '\", season:\"' +str(games['season'][i]) + '\", date:\"' +str(games['date'][i]) + '\", homeTeamID:\"' +str(games['homeTeamID'][i]) + '\", awayTeamID:\"' +str(games['awayTeamID'][i]) + '\", homeGoals:\"' +str(games['homeGoals'][i]) + '\", awayGoals:\"' +str(games['awayGoals'][i]) + '\"})'\n",
    "    session.run(create)"
   ]
  },
  {
   "cell_type": "code",
   "execution_count": 41,
   "id": "57c28bb6",
   "metadata": {},
   "outputs": [],
   "source": [
    "for i in range(len(teams['teamID'])):\n",
    "    create = 'create (t:team{teamID:\"' +str(teams['teamID'][i]) + '\", name:\"' +str(teams['name'][i]) + '\"})'\n",
    "    session.run(create)"
   ]
  },
  {
   "cell_type": "code",
   "execution_count": 42,
   "id": "18c62482",
   "metadata": {},
   "outputs": [],
   "source": [
    "for i in range(len(players['playerID'])):\n",
    "    create = 'create (p:player{playerID:\"' +str(players['playerID'][i]) + '\", name:\"' +str(players['name'][i]) + '\", lastName:\"' +str(players['lastName'][i]) + '\"})'\n",
    "    session.run(create)"
   ]
  },
  {
   "cell_type": "code",
   "execution_count": 43,
   "id": "4dda82f5",
   "metadata": {},
   "outputs": [],
   "source": [
    "for i in range(len(leagues['leagueID'])):\n",
    "    create = 'create (l:league{leagueID:\"' +str(leagues['leagueID'][i]) + '\", name:\"' +str(leagues['name'][i]) + '\", understatNotation:\"' +str(leagues['understatNotation'][i]) + '\"})'\n",
    "    session.run(create)"
   ]
  },
  {
   "cell_type": "code",
   "execution_count": 44,
   "id": "0739f6bd",
   "metadata": {},
   "outputs": [],
   "source": [
    "for i in range(len(shots['gameID'][:10000])):\n",
    "    create = 'create (s:shot{gameID:\"' +str(shots['gameID'][i]) + '\", shooterID:\"' +str(shots['shooterID'][i]) + '\", minute:\"' +str(shots['minute'][i]) + '\", shotType:\"' +str(shots['shotType'][i]) + '\", shotResult:\"' +str(shots['shotResult'][i]) + '\"})'\n",
    "    session.run(create)"
   ]
  },
  {
   "cell_type": "code",
   "execution_count": 45,
   "id": "ac36c9d9",
   "metadata": {},
   "outputs": [
    {
     "data": {
      "text/plain": [
       "<neo4j._sync.work.result.Result at 0x26f1a299250>"
      ]
     },
     "execution_count": 45,
     "metadata": {},
     "output_type": "execute_result"
    }
   ],
   "source": [
    "merge = 'MATCH (g:game) MATCH (l:league) WHERE g.leagueID = l.leagueID MERGE (g)-[:IS_IN_LEAGUE]->(l)'\n",
    "session.run(merge)"
   ]
  },
  {
   "cell_type": "code",
   "execution_count": 46,
   "id": "a54e01bb",
   "metadata": {},
   "outputs": [
    {
     "data": {
      "text/plain": [
       "<neo4j._sync.work.result.Result at 0x26f2c578c10>"
      ]
     },
     "execution_count": 46,
     "metadata": {},
     "output_type": "execute_result"
    }
   ],
   "source": [
    "merge = 'MATCH (g:game) MATCH (t:team) WHERE g.homeTeamID = t.teamID MERGE (t)-[:IS_HOME_TEAM]->(g)'\n",
    "session.run(merge)"
   ]
  },
  {
   "cell_type": "code",
   "execution_count": 47,
   "id": "1c433c0c",
   "metadata": {},
   "outputs": [
    {
     "data": {
      "text/plain": [
       "<neo4j._sync.work.result.Result at 0x26f2c3e90a0>"
      ]
     },
     "execution_count": 47,
     "metadata": {},
     "output_type": "execute_result"
    }
   ],
   "source": [
    "merge = 'MATCH (g:game) MATCH (t:team) WHERE g.awayTeamID = t.teamID MERGE (t)-[:IS_AWAY_TEAM]->(g)'\n",
    "session.run(merge)"
   ]
  },
  {
   "cell_type": "code",
   "execution_count": 48,
   "id": "e2ba0211",
   "metadata": {},
   "outputs": [
    {
     "data": {
      "text/plain": [
       "<neo4j._sync.work.result.Result at 0x26f2c578c40>"
      ]
     },
     "execution_count": 48,
     "metadata": {},
     "output_type": "execute_result"
    }
   ],
   "source": [
    "merge = 'MATCH (g:game) MATCH (s:shot) WHERE g.gameID = s.gameID MERGE (s)-[:IS_FROM_GAME]->(g)'\n",
    "session.run(merge)"
   ]
  },
  {
   "cell_type": "code",
   "execution_count": 49,
   "id": "29639c43",
   "metadata": {},
   "outputs": [
    {
     "data": {
      "text/plain": [
       "<neo4j._sync.work.result.Result at 0x26f2c578fa0>"
      ]
     },
     "execution_count": 49,
     "metadata": {},
     "output_type": "execute_result"
    }
   ],
   "source": [
    "merge = 'MATCH (p:player) MATCH (s:shot) WHERE p.playerID = s.shooterID MERGE (s)-[:WAS_SHOT_BY]->(p)'\n",
    "session.run(merge)"
   ]
  },
  {
   "cell_type": "code",
   "execution_count": 25,
   "id": "5d03f194",
   "metadata": {},
   "outputs": [
    {
     "data": {
      "text/html": [
       "<div>\n",
       "<style scoped>\n",
       "    .dataframe tbody tr th:only-of-type {\n",
       "        vertical-align: middle;\n",
       "    }\n",
       "\n",
       "    .dataframe tbody tr th {\n",
       "        vertical-align: top;\n",
       "    }\n",
       "\n",
       "    .dataframe thead th {\n",
       "        text-align: right;\n",
       "    }\n",
       "</style>\n",
       "<table border=\"1\" class=\"dataframe\">\n",
       "  <thead>\n",
       "    <tr style=\"text-align: right;\">\n",
       "      <th></th>\n",
       "      <th>gameID</th>\n",
       "      <th>playerID</th>\n",
       "      <th>goals</th>\n",
       "      <th>shots</th>\n",
       "      <th>position</th>\n",
       "      <th>yellowCard</th>\n",
       "      <th>redCard</th>\n",
       "      <th>leagueID</th>\n",
       "    </tr>\n",
       "  </thead>\n",
       "  <tbody>\n",
       "    <tr>\n",
       "      <th>0</th>\n",
       "      <td>81</td>\n",
       "      <td>560</td>\n",
       "      <td>0</td>\n",
       "      <td>0</td>\n",
       "      <td>GK</td>\n",
       "      <td>0</td>\n",
       "      <td>0</td>\n",
       "      <td>1</td>\n",
       "    </tr>\n",
       "    <tr>\n",
       "      <th>1</th>\n",
       "      <td>81</td>\n",
       "      <td>557</td>\n",
       "      <td>0</td>\n",
       "      <td>0</td>\n",
       "      <td>DR</td>\n",
       "      <td>0</td>\n",
       "      <td>0</td>\n",
       "      <td>1</td>\n",
       "    </tr>\n",
       "    <tr>\n",
       "      <th>2</th>\n",
       "      <td>81</td>\n",
       "      <td>548</td>\n",
       "      <td>0</td>\n",
       "      <td>0</td>\n",
       "      <td>DC</td>\n",
       "      <td>0</td>\n",
       "      <td>0</td>\n",
       "      <td>1</td>\n",
       "    </tr>\n",
       "    <tr>\n",
       "      <th>3</th>\n",
       "      <td>81</td>\n",
       "      <td>628</td>\n",
       "      <td>0</td>\n",
       "      <td>0</td>\n",
       "      <td>DC</td>\n",
       "      <td>0</td>\n",
       "      <td>0</td>\n",
       "      <td>1</td>\n",
       "    </tr>\n",
       "    <tr>\n",
       "      <th>4</th>\n",
       "      <td>81</td>\n",
       "      <td>1006</td>\n",
       "      <td>0</td>\n",
       "      <td>0</td>\n",
       "      <td>DL</td>\n",
       "      <td>0</td>\n",
       "      <td>0</td>\n",
       "      <td>1</td>\n",
       "    </tr>\n",
       "  </tbody>\n",
       "</table>\n",
       "</div>"
      ],
      "text/plain": [
       "   gameID  playerID  goals  shots position  yellowCard  redCard  leagueID\n",
       "0      81       560      0      0       GK           0        0         1\n",
       "1      81       557      0      0       DR           0        0         1\n",
       "2      81       548      0      0       DC           0        0         1\n",
       "3      81       628      0      0       DC           0        0         1\n",
       "4      81      1006      0      0       DL           0        0         1"
      ]
     },
     "execution_count": 25,
     "metadata": {},
     "output_type": "execute_result"
    }
   ],
   "source": [
    "appearances = pd.read_csv('mecze/appearances.csv', encoding = \"ISO-8859-1\")[['gameID', 'playerID', 'goals', 'shots', 'position', 'yellowCard', 'redCard', 'leagueID']]\n",
    "appearances.head()"
   ]
  },
  {
   "cell_type": "code",
   "execution_count": 50,
   "id": "337fa791",
   "metadata": {},
   "outputs": [],
   "source": [
    "for i in range(len(appearances['gameID'][:10000])):\n",
    "    create = 'create (a:appearance{gameID:\"' +str(appearances['gameID'][i]) + '\", playerID:\"' +str(appearances['playerID'][i]) + '\", goals:' + str(appearances['goals'][i]) + ', shots:' + str(appearances['shots'][i]) + ', position:\"' +str(appearances['position'][i]) + '\", yellowCard:' +str(appearances['yellowCard'][i]) + ', redCard:' +str(appearances['redCard'][i]) + ', leagueID:\"' +str(appearances['leagueID'][i]) + '\"})'\n",
    "    session.run(create)"
   ]
  },
  {
   "cell_type": "code",
   "execution_count": 51,
   "id": "89d7a952",
   "metadata": {},
   "outputs": [
    {
     "data": {
      "text/plain": [
       "<neo4j._sync.work.result.Result at 0x26f2c3edbb0>"
      ]
     },
     "execution_count": 51,
     "metadata": {},
     "output_type": "execute_result"
    }
   ],
   "source": [
    "merge = 'MATCH (g:game) MATCH (a:appearance) WHERE g.gameID = a.gameID MERGE (g)-[:WAS_PLAYED_BY]->(a)'\n",
    "session.run(merge)"
   ]
  },
  {
   "cell_type": "code",
   "execution_count": 52,
   "id": "f66b2df2",
   "metadata": {},
   "outputs": [
    {
     "data": {
      "text/plain": [
       "<neo4j._sync.work.result.Result at 0x26f2c404d30>"
      ]
     },
     "execution_count": 52,
     "metadata": {},
     "output_type": "execute_result"
    }
   ],
   "source": [
    "merge = 'MATCH (p:player) MATCH (a:appearance) WHERE p.playerID = a.playerID MERGE (a)-[:IS_ABOUT]->(p)'\n",
    "session.run(merge)"
   ]
  },
  {
   "cell_type": "code",
   "execution_count": 53,
   "id": "9155ac18",
   "metadata": {},
   "outputs": [
    {
     "data": {
      "text/plain": [
       "<neo4j._sync.work.result.Result at 0x26f2c404e50>"
      ]
     },
     "execution_count": 53,
     "metadata": {},
     "output_type": "execute_result"
    }
   ],
   "source": [
    "merge = 'MATCH (l:league) MATCH (a:appearance) WHERE l.leagueID = a.leagueID MERGE (a)-[:IS_IN_LEAGUE]->(l)'\n",
    "session.run(merge)"
   ]
  },
  {
   "cell_type": "code",
   "execution_count": 57,
   "id": "9b7ce998",
   "metadata": {},
   "outputs": [
    {
     "name": "stdout",
     "output_type": "stream",
     "text": [
      "<neo4j._sync.work.result.Result object at 0x0000026F2C7BA940>\n"
     ]
    }
   ],
   "source": [
    "query1 = 'MATCH (t:team{name:\"Everton\"})-[:IS_HOME_TEAM]->(g:game)<-[:IS_FROM_GAME]-(s:shot{shotResult:\"Goal\"}) RETURN s UNION MATCH (t:team{name:\"Everton\"})-[:IS_AWAY_TEAM]->(g:game)<-[:IS_FROM_GAME]-(s:shot{shotResult:\"Goal\"}) RETURN s'\n",
    "session.run(query1)\n",
    "query2 = 'MERGE (s:shot{gameID:\"81\", shooterID:\"554\", minute:\"29\"}) ON CREATE SET s.shotType=\"LeftFoot\", s.shotResult=\"MissedShots\" MERGE (s)-[:IS_FROM_GAME]->(g:game{gameID:\"81\"}) ON MATCH SET s.shotType=\"RightFoot\", s.shotResult=\"MissedShots\" RETURN s'\n",
    "query3 = 'MERGE (a:appearance{gameID:\"81\", playerID:\"554\"}) ON CREATE SET a.goals=1, a.shots=1, a.position=\"GK\", a.yellowCard=0, a.redCard=0, a.leagueID=\"1\" MERGE (g:game{gameID:\"81\"})-[:WAS_PLAYED_BY]->(a) MERGE (a)-[:IS_ABOUT]->(p:player{playerID:\"554\"}) MERGE (a)-[:IS_IN_LEAGUE]->(l:league{leagueID:\"1\"}) ON MATCH SET a.goals=1, a.shots=2, a.yellowCard=1 RETURN a'\n",
    "query4 = 'MATCH (g:game{season:\"2015\"})-[:WAS_PLAYED_BY]->(a:appearance{redCard:1})-[:IS_ABOUT]->(p:player) RETURN p UNION MATCH (g:game{season:\"2016\"})-[:WAS_PLAYED_BY]->(a:appearance{redCard:1})-[:IS_ABOUT]->(p:player) RETURN p'"
   ]
  },
  {
   "cell_type": "code",
   "execution_count": 58,
   "id": "d9159d63",
   "metadata": {},
   "outputs": [
    {
     "data": {
      "text/plain": [
       "<neo4j._sync.work.result.Result at 0x26f2e229e50>"
      ]
     },
     "execution_count": 58,
     "metadata": {},
     "output_type": "execute_result"
    }
   ],
   "source": [
    "index1 = 'CREATE INDEX team_name_index FOR (n:team) ON (n.name)'\n",
    "index2 = 'CREATE INDEX homeGoal_count_index FOR (n:game) ON (n.homeGoals)'\n",
    "index3 = 'CREATE INDEX awayGoal_count_index FOR (n:game) ON (n.awayGoals)'\n",
    "index4 = 'CREATE INDEX player_name_index FOR (n:player) ON (n.name)'\n",
    "index5 = 'CREATE INDEX player_lastName_index FOR (n:player) ON (n.lastName)'\n",
    "index6 = 'CREATE INDEX shotResult_index FOR (n:shot) ON (n.shotResult)'\n",
    "session.run(index1)\n",
    "session.run(index2)\n",
    "session.run(index3)\n",
    "session.run(index4)\n",
    "session.run(index5)\n",
    "session.run(index6)"
   ]
  },
  {
   "cell_type": "code",
   "execution_count": 62,
   "id": "e8a0a7ab",
   "metadata": {},
   "outputs": [
    {
     "data": {
      "text/plain": [
       "<neo4j._sync.work.result.Result at 0x26f2c807f70>"
      ]
     },
     "execution_count": 62,
     "metadata": {},
     "output_type": "execute_result"
    }
   ],
   "source": [
    "procedure = str(\"CALL apoc.custom.asProcedure('yellowCards','MATCH (g:game{season:$input3})-[:WAS_PLAYED_BY]->(a:appearance)-[:IS_ABOUT]->(p:player{name:$input1, lastName:$input2}) WITH p, sum(a.yellowCard) as yellowCards RETURN $input1, $input2, yellowCards','read', [['yellowCards', 'INTEGER']], [['input1', 'STRING'],['input2', 'STRING'], ['input3', 'STRING']], 'Returns number of yellow cards given to player in given season.');\")\n",
    "session.run(procedure)"
   ]
  }
 ],
 "metadata": {
  "kernelspec": {
   "display_name": "Python 3 (ipykernel)",
   "language": "python",
   "name": "python3"
  },
  "language_info": {
   "codemirror_mode": {
    "name": "ipython",
    "version": 3
   },
   "file_extension": ".py",
   "mimetype": "text/x-python",
   "name": "python",
   "nbconvert_exporter": "python",
   "pygments_lexer": "ipython3",
   "version": "3.9.13"
  }
 },
 "nbformat": 4,
 "nbformat_minor": 5
}
